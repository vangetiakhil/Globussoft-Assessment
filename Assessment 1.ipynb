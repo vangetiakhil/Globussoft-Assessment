{
 "cells": [
  {
   "cell_type": "markdown",
   "metadata": {},
   "source": [
    "# 1"
   ]
  },
  {
   "cell_type": "code",
   "execution_count": 10,
   "metadata": {},
   "outputs": [],
   "source": [
    "num = 10100\n",
    "prime_numbers = []"
   ]
  },
  {
   "cell_type": "code",
   "execution_count": 11,
   "metadata": {},
   "outputs": [],
   "source": [
    "for i in range(2,num+1):\n",
    "    for j in range(2,num+1):\n",
    "        if i == j:\n",
    "            pass\n",
    "        elif (i % j) == 0:\n",
    "            break\n",
    "    else:\n",
    "        prime_numbers.append(i)"
   ]
  },
  {
   "cell_type": "code",
   "execution_count": 3,
   "metadata": {},
   "outputs": [
    {
     "name": "stdout",
     "output_type": "stream",
     "text": [
      "Enter number of test cases (not more than 100)\n",
      "3\n",
      "two numbers seperated by space and each case in new line (number not bigger than 10099) ex:- 233 12\n",
      "210 48\n",
      "983 982\n",
      "14351 14112\n"
     ]
    }
   ],
   "source": [
    "a = int(input(\"Enter number of test cases (not more than 100)\\n\"))\n",
    "cases = []\n",
    "print(\"two numbers seperated by space and each case in new line (number not bigger than 10099) ex:- 110 40\")\n",
    "for i in range(0,a):\n",
    "    b = input()\n",
    "    cases.append((int(b.split(' ')[0]),int(b.split(' ')[1])))"
   ]
  },
  {
   "cell_type": "code",
   "execution_count": 29,
   "metadata": {},
   "outputs": [
    {
     "name": "stdout",
     "output_type": "stream",
     "text": [
      "210 = 2 * 3 * 5 * 7\n",
      "983 = 983\n",
      "14351 = 113 * 127\n"
     ]
    }
   ],
   "source": [
    "for c in range(len(cases)):\n",
    "    factors = []\n",
    "    next_elm = 1\n",
    "    n1 = cases[c][0]\n",
    "    for i in prime_numbers:\n",
    "        if n1%i == 0:\n",
    "            n1 = n1//i\n",
    "            factors.append(i)\n",
    "\n",
    "    for i in factors:\n",
    "        next_elm = next_elm*(i-1)\n",
    "    \n",
    "    if next_elm == cases[c][1]:\n",
    "        s = str(factors[0])\n",
    "        try:\n",
    "            for f in range(1,len(factors)):\n",
    "                a = a +' * ' + str(factors[f]) \n",
    "            print(\"{} = {}\" .format(cases[c][0],s))\n",
    "        except:\n",
    "            print(\"{} = {}\" .format(cases[c][0],s))\n",
    "    \n",
    "    "
   ]
  },
  {
   "cell_type": "code",
   "execution_count": 35,
   "metadata": {},
   "outputs": [
    {
     "data": {
      "text/plain": [
       "1240"
      ]
     },
     "execution_count": 35,
     "metadata": {},
     "output_type": "execute_result"
    }
   ],
   "source": [
    "len(prime_numbers)"
   ]
  },
  {
   "cell_type": "markdown",
   "metadata": {},
   "source": [
    "# 2"
   ]
  },
  {
   "cell_type": "code",
   "execution_count": 143,
   "metadata": {},
   "outputs": [],
   "source": [
    "import numpy as np"
   ]
  },
  {
   "cell_type": "code",
   "execution_count": 144,
   "metadata": {},
   "outputs": [
    {
     "name": "stdout",
     "output_type": "stream",
     "text": [
      "Enter number of test cases (not more than 100)\n",
      "3\n",
      "enter the last integer of the range for each case\n",
      "2\n",
      "4\n",
      "7\n"
     ]
    }
   ],
   "source": [
    "a = int(input(\"Enter number of test cases (not more than 100)\\n\"))\n",
    "cases = []\n",
    "print(\"enter the last integer of the range for each case\")\n",
    "for i in range(0,a):\n",
    "    b = input()\n",
    "    cases.append(int(b))"
   ]
  },
  {
   "cell_type": "code",
   "execution_count": 149,
   "metadata": {},
   "outputs": [
    {
     "name": "stdout",
     "output_type": "stream",
     "text": [
      "1\n",
      "1\n",
      "2\n"
     ]
    }
   ],
   "source": [
    "for num in cases:\n",
    "    list1 = list(np.arange(2,num+1))\n",
    "    list2 = list(np.arange(2,num+1))\n",
    "    list2.reverse()\n",
    "    \n",
    "    first = 0\n",
    "    while True:\n",
    "        rem_list1 = []\n",
    "        elm = list1[first]\n",
    "        for j in range(len(list1)):\n",
    "            if list1[j] == elm:\n",
    "                pass\n",
    "            elif (list1[j] % elm) == 0:\n",
    "                rem_list1.append(list1[j])\n",
    "    \n",
    "        for ind in rem_list1:\n",
    "            list1.remove(ind)\n",
    "         \n",
    "        if list1[-1] == list1[first]:\n",
    "            break\n",
    "        first = first+1\n",
    "        \n",
    "            \n",
    "    second = 0\n",
    "    while True:\n",
    "        rem_list2 = []\n",
    "        elm = list2[second]\n",
    "        for j in range(len(list2)):\n",
    "            if list2[j] == elm:\n",
    "                pass\n",
    "            elif (elm % list2[j]) == 0:\n",
    "                rem_list2.append(list2[j])\n",
    "    \n",
    "        for ind in rem_list2:\n",
    "            list2.remove(ind)\n",
    "          \n",
    "        if list2[-1] == list2[second]:\n",
    "            break\n",
    "        second = second+1\n",
    "            \n",
    "    count = 0 \n",
    "    for i in list1:\n",
    "        for j in list2:\n",
    "            if i==j:\n",
    "                list2.remove(i)\n",
    "                count += 1\n",
    "    print(count)\n",
    "    "
   ]
  },
  {
   "cell_type": "markdown",
   "metadata": {},
   "source": [
    "# 5"
   ]
  },
  {
   "cell_type": "code",
   "execution_count": 8,
   "metadata": {},
   "outputs": [
    {
     "name": "stdout",
     "output_type": "stream",
     "text": [
      "A) Two numbers(length and breadth) seperated by space and each case in new line ( 0 < number < 100000) ex:- 110 40\n",
      "B) After all the cases have been entered enter '0 0' to stop\n",
      "113 127\n",
      "4068 4572\n",
      "0 0\n"
     ]
    }
   ],
   "source": [
    "cases = []\n",
    "print(\"A) Two numbers(length and breadth) seperated by space and each case in new line ( 0 < number < 100000) ex:- 110 40\")\n",
    "print(\"B) After all the cases have been entered, enter '0 0' to stop\")\n",
    "max_num = 0\n",
    "while True:\n",
    "    b = input()\n",
    "    if int(b.split(' ')[0]) == 0 and int(b.split(' ')[1]) == 0:\n",
    "        break\n",
    "    if int(b.split(' ')[0]) > max_num :\n",
    "        max_num = int(b.split(' ')[0])\n",
    "    if int(b.split(' ')[1]) > max_num :\n",
    "        max_num = int(b.split(' ')[1])\n",
    "        \n",
    "    cases.append((int(b.split(' ')[0]),int(b.split(' ')[1])))"
   ]
  },
  {
   "cell_type": "code",
   "execution_count": 6,
   "metadata": {},
   "outputs": [],
   "source": [
    "prime_numbers = []"
   ]
  },
  {
   "cell_type": "code",
   "execution_count": 7,
   "metadata": {},
   "outputs": [],
   "source": [
    "for i in range(2,max_num+1):\n",
    "    for j in range(2,max_num+1):\n",
    "        if i == j:\n",
    "            pass\n",
    "        elif (i % j) == 0:\n",
    "            break\n",
    "    else:\n",
    "        prime_numbers.append(i)"
   ]
  },
  {
   "cell_type": "code",
   "execution_count": 9,
   "metadata": {},
   "outputs": [
    {
     "name": "stdout",
     "output_type": "stream",
     "text": [
      "14351\n",
      "14351\n"
     ]
    }
   ],
   "source": [
    "for case in cases:\n",
    "    if case[0] > case[1]:\n",
    "        length = case[0]\n",
    "        width = case[1]\n",
    "    else :\n",
    "        length = case[1]\n",
    "        width = case[0]\n",
    "       \n",
    "    while True:\n",
    "        count = 0\n",
    "        for i in prime_numbers:\n",
    "            if (length%i == 0) and (width%i == 0):\n",
    "                length = length//i\n",
    "                width = width//i\n",
    "                break\n",
    "            else :\n",
    "                count+=1\n",
    "                continue\n",
    "        if count == len(prime_numbers):\n",
    "            break\n",
    "                \n",
    "    if length%width == 0:\n",
    "        print(length//width)\n",
    "    else:\n",
    "        print(length*width)\n",
    "                    "
   ]
  }
 ],
 "metadata": {
  "kernelspec": {
   "display_name": "Python 3",
   "language": "python",
   "name": "python3"
  },
  "language_info": {
   "codemirror_mode": {
    "name": "ipython",
    "version": 3
   },
   "file_extension": ".py",
   "mimetype": "text/x-python",
   "name": "python",
   "nbconvert_exporter": "python",
   "pygments_lexer": "ipython3",
   "version": "3.8.5"
  }
 },
 "nbformat": 4,
 "nbformat_minor": 4
}
